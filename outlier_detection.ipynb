{
 "cells": [
  {
   "cell_type": "code",
   "execution_count": 1,
   "id": "97c5cc27",
   "metadata": {
    "_cell_guid": "b1076dfc-b9ad-4769-8c92-a6c4dae69d19",
    "_uuid": "8f2839f25d086af736a60e9eeb907d3b93b6e0e5",
    "execution": {
     "iopub.execute_input": "2024-07-07T16:23:09.168940Z",
     "iopub.status.busy": "2024-07-07T16:23:09.168048Z",
     "iopub.status.idle": "2024-07-07T16:23:09.979116Z",
     "shell.execute_reply": "2024-07-07T16:23:09.978060Z"
    },
    "papermill": {
     "duration": 0.818904,
     "end_time": "2024-07-07T16:23:09.981556",
     "exception": false,
     "start_time": "2024-07-07T16:23:09.162652",
     "status": "completed"
    },
    "tags": []
   },
   "outputs": [],
   "source": [
    "# This Python 3 environment comes with many helpful analytics libraries installed\n",
    "# It is defined by the kaggle/python Docker image: https://github.com/kaggle/docker-python\n",
    "# For example, here's several helpful packages to load\n",
    "\n",
    "import numpy as np # linear algebra\n",
    "import pandas as pd # data processing, CSV file I/O (e.g. pd.read_csv)\n",
    "\n",
    "# Input data files are available in the read-only \"../input/\" directory\n",
    "# For example, running this (by clicking run or pressing Shift+Enter) will list all files under the input directory\n",
    "\n",
    "import os\n",
    "for dirname, _, filenames in os.walk('/kaggle/input'):\n",
    "    for filename in filenames:\n",
    "        print(os.path.join(dirname, filename))\n",
    "\n",
    "# You can write up to 20GB to the current directory (/kaggle/working/) that gets preserved as output when you create a version using \"Save & Run All\" \n",
    "# You can also write temporary files to /kaggle/temp/, but they won't be saved outside of the current session"
   ]
  },
  {
   "cell_type": "code",
   "execution_count": 2,
   "id": "cdb55c49",
   "metadata": {
    "execution": {
     "iopub.execute_input": "2024-07-07T16:23:09.989830Z",
     "iopub.status.busy": "2024-07-07T16:23:09.988926Z",
     "iopub.status.idle": "2024-07-07T16:23:09.994138Z",
     "shell.execute_reply": "2024-07-07T16:23:09.992902Z"
    },
    "papermill": {
     "duration": 0.011228,
     "end_time": "2024-07-07T16:23:09.996180",
     "exception": false,
     "start_time": "2024-07-07T16:23:09.984952",
     "status": "completed"
    },
    "tags": []
   },
   "outputs": [],
   "source": [
    "# data observations or data points\n",
    "\n",
    "data_1 = [170,123, 167, 165, 160, 180, 175, 179, 210, 182,168, 170,169, 350]"
   ]
  },
  {
   "cell_type": "code",
   "execution_count": 3,
   "id": "b52fd5ca",
   "metadata": {
    "execution": {
     "iopub.execute_input": "2024-07-07T16:23:10.003500Z",
     "iopub.status.busy": "2024-07-07T16:23:10.003177Z",
     "iopub.status.idle": "2024-07-07T16:23:10.009767Z",
     "shell.execute_reply": "2024-07-07T16:23:10.008814Z"
    },
    "papermill": {
     "duration": 0.01255,
     "end_time": "2024-07-07T16:23:10.011756",
     "exception": false,
     "start_time": "2024-07-07T16:23:09.999206",
     "status": "completed"
    },
    "tags": []
   },
   "outputs": [],
   "source": [
    "# detecting outlier using Interquartile range\n",
    "\n",
    "import numpy as np\n",
    "# to calculate the percentiles\n",
    "\n",
    "def outlier_detection(data):\n",
    "    outliers = []\n",
    "    sorted_data = sorted(data)\n",
    "    sorted_data_np = np.array(sorted_data)\n",
    "    q1 = np.percentile(sorted_data_np, 25)\n",
    "    q3 = np.percentile(sorted_data_np, 75)\n",
    "    q2 = np.percentile(sorted_data_np, 50)\n",
    "    \n",
    "    IQR = q3 - q1\n",
    "    \n",
    "    upper_bound = q3 + (1.5* IQR)\n",
    "    lower_bound = q1 - (1.5*IQR)\n",
    "    \n",
    "    for data_point in sorted_data:\n",
    "        if data_point < lower_bound or data_point > upper_bound:\n",
    "            outliers.append(data_point)\n",
    "    \n",
    "    return outliers\n",
    "        "
   ]
  },
  {
   "cell_type": "code",
   "execution_count": 4,
   "id": "3a65d74a",
   "metadata": {
    "execution": {
     "iopub.execute_input": "2024-07-07T16:23:10.019128Z",
     "iopub.status.busy": "2024-07-07T16:23:10.018770Z",
     "iopub.status.idle": "2024-07-07T16:23:10.029618Z",
     "shell.execute_reply": "2024-07-07T16:23:10.028678Z"
    },
    "papermill": {
     "duration": 0.016811,
     "end_time": "2024-07-07T16:23:10.031694",
     "exception": false,
     "start_time": "2024-07-07T16:23:10.014883",
     "status": "completed"
    },
    "tags": []
   },
   "outputs": [
    {
     "data": {
      "text/plain": [
       "[123, 210, 350]"
      ]
     },
     "execution_count": 4,
     "metadata": {},
     "output_type": "execute_result"
    }
   ],
   "source": [
    "outliers_in_my_dataset = outlier_detection(data_1)\n",
    "outliers_in_my_dataset"
   ]
  },
  {
   "cell_type": "code",
   "execution_count": 5,
   "id": "e1fd6b66",
   "metadata": {
    "execution": {
     "iopub.execute_input": "2024-07-07T16:23:10.039988Z",
     "iopub.status.busy": "2024-07-07T16:23:10.039176Z",
     "iopub.status.idle": "2024-07-07T16:23:10.045324Z",
     "shell.execute_reply": "2024-07-07T16:23:10.044337Z"
    },
    "papermill": {
     "duration": 0.012328,
     "end_time": "2024-07-07T16:23:10.047353",
     "exception": false,
     "start_time": "2024-07-07T16:23:10.035025",
     "status": "completed"
    },
    "tags": []
   },
   "outputs": [],
   "source": [
    "# using z-values to calculate outliers\n",
    "# if my data point's corresponding z value lies outside of lets say the 3rd std. which in case of z table, is 3 and on the either side of the mean, so ill consider that point as an outlier.\n",
    "\n",
    "import numpy as np\n",
    "\n",
    "def outlier_detection_z(data):\n",
    "    outliers = []\n",
    "    critical_boundary = 3\n",
    "    data_np = np.array(data)\n",
    "    standard_deviation_of_data = np.std(data_np) \n",
    "    mean_of_data = np.mean(data_np)\n",
    "    for data_point in data:\n",
    "        z_value = (data_point - mean_of_data) / standard_deviation_of_data\n",
    "        if np.abs(z_value) > critical_boundary:\n",
    "            outliers.append(data_point)\n",
    "            \n",
    "    return outliers"
   ]
  },
  {
   "cell_type": "code",
   "execution_count": 6,
   "id": "9022e2a5",
   "metadata": {
    "execution": {
     "iopub.execute_input": "2024-07-07T16:23:10.055798Z",
     "iopub.status.busy": "2024-07-07T16:23:10.054960Z",
     "iopub.status.idle": "2024-07-07T16:23:10.061399Z",
     "shell.execute_reply": "2024-07-07T16:23:10.060405Z"
    },
    "papermill": {
     "duration": 0.012737,
     "end_time": "2024-07-07T16:23:10.063385",
     "exception": false,
     "start_time": "2024-07-07T16:23:10.050648",
     "status": "completed"
    },
    "tags": []
   },
   "outputs": [
    {
     "data": {
      "text/plain": [
       "[350]"
      ]
     },
     "execution_count": 6,
     "metadata": {},
     "output_type": "execute_result"
    }
   ],
   "source": [
    "outliers_in_dataset = outlier_detection_z(data_1)\n",
    "outliers_in_dataset"
   ]
  },
  {
   "cell_type": "code",
   "execution_count": null,
   "id": "5676c9de",
   "metadata": {
    "papermill": {
     "duration": 0.003099,
     "end_time": "2024-07-07T16:23:10.070044",
     "exception": false,
     "start_time": "2024-07-07T16:23:10.066945",
     "status": "completed"
    },
    "tags": []
   },
   "outputs": [],
   "source": []
  },
  {
   "cell_type": "code",
   "execution_count": 7,
   "id": "bd993254",
   "metadata": {
    "execution": {
     "iopub.execute_input": "2024-07-07T16:23:10.078016Z",
     "iopub.status.busy": "2024-07-07T16:23:10.077648Z",
     "iopub.status.idle": "2024-07-07T16:23:10.087757Z",
     "shell.execute_reply": "2024-07-07T16:23:10.086788Z"
    },
    "papermill": {
     "duration": 0.016497,
     "end_time": "2024-07-07T16:23:10.089800",
     "exception": false,
     "start_time": "2024-07-07T16:23:10.073303",
     "status": "completed"
    },
    "tags": []
   },
   "outputs": [
    {
     "data": {
      "text/plain": [
       "49.40606423986307"
      ]
     },
     "execution_count": 7,
     "metadata": {},
     "output_type": "execute_result"
    }
   ],
   "source": [
    "# how do i calculate the percentiles without using numpy built in funtionality\n",
    "# sort the array\n",
    "\n",
    "\n",
    "def mean(data):\n",
    "    sum = 0\n",
    "    for data_point in data:\n",
    "        sum += data_point\n",
    "    length = len(data)\n",
    "    mean = sum / length\n",
    "        \n",
    "    return mean\n",
    "\n",
    "# square all the data points, divide by the len, subtract from the square of the mean, underroot the entire thing to get standard deviation\n",
    "\n",
    "def standard_dev(data, mean):\n",
    "    squared_sum = 0\n",
    "    for data_point in data:\n",
    "        data_point = data_point**2\n",
    "        squared_sum += data_point\n",
    "    length = len(data)\n",
    "    squared_avg = squared_sum / length\n",
    "    mean_sq = mean**2\n",
    "    standard_deviation_sq = squared_avg - mean_sq\n",
    "    stadard_deviation = standard_deviation_sq**(1/2)\n",
    "    return stadard_deviation \n",
    "\n",
    "\n",
    "data_1 = [170,123, 167, 165, 160, 180, 175, 179, 210, 182,168, 170,169, 350]\n",
    "mean_cal = mean(data_1)\n",
    "mean_cal # 183.42857142857142\n",
    "\n",
    "standard_deviation_cal = standard_dev(data_1, mean_cal )\n",
    "standard_deviation_cal # 49.40606423986307\n"
   ]
  },
  {
   "cell_type": "code",
   "execution_count": 8,
   "id": "9379ad32",
   "metadata": {
    "execution": {
     "iopub.execute_input": "2024-07-07T16:23:10.097669Z",
     "iopub.status.busy": "2024-07-07T16:23:10.097374Z",
     "iopub.status.idle": "2024-07-07T16:23:10.104097Z",
     "shell.execute_reply": "2024-07-07T16:23:10.103177Z"
    },
    "papermill": {
     "duration": 0.01295,
     "end_time": "2024-07-07T16:23:10.106180",
     "exception": false,
     "start_time": "2024-07-07T16:23:10.093230",
     "status": "completed"
    },
    "tags": []
   },
   "outputs": [
    {
     "data": {
      "text/plain": [
       "183.42857142857142"
      ]
     },
     "execution_count": 8,
     "metadata": {},
     "output_type": "execute_result"
    }
   ],
   "source": [
    "import numpy as np\n",
    "stdev = np.std(data_1)\n",
    "stdev # 49.406064239863\n",
    "\n",
    "mean = np.mean(data_1)\n",
    "mean #183.42857142857142"
   ]
  },
  {
   "cell_type": "markdown",
   "id": "9ee5c8f1",
   "metadata": {
    "papermill": {
     "duration": 0.003134,
     "end_time": "2024-07-07T16:23:10.112744",
     "exception": false,
     "start_time": "2024-07-07T16:23:10.109610",
     "status": "completed"
    },
    "tags": []
   },
   "source": []
  }
 ],
 "metadata": {
  "kaggle": {
   "accelerator": "none",
   "dataSources": [],
   "dockerImageVersionId": 30732,
   "isGpuEnabled": false,
   "isInternetEnabled": false,
   "language": "python",
   "sourceType": "notebook"
  },
  "kernelspec": {
   "display_name": "Python 3",
   "language": "python",
   "name": "python3"
  },
  "language_info": {
   "codemirror_mode": {
    "name": "ipython",
    "version": 3
   },
   "file_extension": ".py",
   "mimetype": "text/x-python",
   "name": "python",
   "nbconvert_exporter": "python",
   "pygments_lexer": "ipython3",
   "version": "3.10.13"
  },
  "papermill": {
   "default_parameters": {},
   "duration": 4.352576,
   "end_time": "2024-07-07T16:23:10.535194",
   "environment_variables": {},
   "exception": null,
   "input_path": "__notebook__.ipynb",
   "output_path": "__notebook__.ipynb",
   "parameters": {},
   "start_time": "2024-07-07T16:23:06.182618",
   "version": "2.5.0"
  }
 },
 "nbformat": 4,
 "nbformat_minor": 5
}
