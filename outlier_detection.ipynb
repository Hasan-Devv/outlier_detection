{
 "cells": [
  {
   "cell_type": "code",
   "execution_count": 1,
   "id": "99195027",
   "metadata": {
    "_cell_guid": "b1076dfc-b9ad-4769-8c92-a6c4dae69d19",
    "_uuid": "8f2839f25d086af736a60e9eeb907d3b93b6e0e5",
    "execution": {
     "iopub.execute_input": "2024-07-07T16:21:18.089772Z",
     "iopub.status.busy": "2024-07-07T16:21:18.089255Z",
     "iopub.status.idle": "2024-07-07T16:21:19.110461Z",
     "shell.execute_reply": "2024-07-07T16:21:19.109178Z"
    },
    "papermill": {
     "duration": 1.030501,
     "end_time": "2024-07-07T16:21:19.113292",
     "exception": false,
     "start_time": "2024-07-07T16:21:18.082791",
     "status": "completed"
    },
    "tags": []
   },
   "outputs": [],
   "source": [
    "# This Python 3 environment comes with many helpful analytics libraries installed\n",
    "# It is defined by the kaggle/python Docker image: https://github.com/kaggle/docker-python\n",
    "# For example, here's several helpful packages to load\n",
    "\n",
    "import numpy as np # linear algebra\n",
    "import pandas as pd # data processing, CSV file I/O (e.g. pd.read_csv)\n",
    "\n",
    "# Input data files are available in the read-only \"../input/\" directory\n",
    "# For example, running this (by clicking run or pressing Shift+Enter) will list all files under the input directory\n",
    "\n",
    "import os\n",
    "for dirname, _, filenames in os.walk('/kaggle/input'):\n",
    "    for filename in filenames:\n",
    "        print(os.path.join(dirname, filename))\n",
    "\n",
    "# You can write up to 20GB to the current directory (/kaggle/working/) that gets preserved as output when you create a version using \"Save & Run All\" \n",
    "# You can also write temporary files to /kaggle/temp/, but they won't be saved outside of the current session"
   ]
  },
  {
   "cell_type": "code",
   "execution_count": 2,
   "id": "852fdf28",
   "metadata": {
    "execution": {
     "iopub.execute_input": "2024-07-07T16:21:19.124200Z",
     "iopub.status.busy": "2024-07-07T16:21:19.123682Z",
     "iopub.status.idle": "2024-07-07T16:21:19.129607Z",
     "shell.execute_reply": "2024-07-07T16:21:19.128492Z"
    },
    "papermill": {
     "duration": 0.014061,
     "end_time": "2024-07-07T16:21:19.132110",
     "exception": false,
     "start_time": "2024-07-07T16:21:19.118049",
     "status": "completed"
    },
    "tags": []
   },
   "outputs": [],
   "source": [
    "# data observations or data points\n",
    "\n",
    "data_1 = [170,123, 167, 165, 160, 180, 175, 179, 210, 182,168, 170,169, 350]"
   ]
  },
  {
   "cell_type": "code",
   "execution_count": 3,
   "id": "d8b7e4df",
   "metadata": {
    "execution": {
     "iopub.execute_input": "2024-07-07T16:21:19.142555Z",
     "iopub.status.busy": "2024-07-07T16:21:19.142129Z",
     "iopub.status.idle": "2024-07-07T16:21:19.150341Z",
     "shell.execute_reply": "2024-07-07T16:21:19.149161Z"
    },
    "papermill": {
     "duration": 0.016275,
     "end_time": "2024-07-07T16:21:19.152796",
     "exception": false,
     "start_time": "2024-07-07T16:21:19.136521",
     "status": "completed"
    },
    "tags": []
   },
   "outputs": [],
   "source": [
    "# detecting outlier using Interquartile range\n",
    "\n",
    "import numpy as np\n",
    "# to calculate the percentiles\n",
    "\n",
    "def outlier_detection(data):\n",
    "    outliers = []\n",
    "    sorted_data = sorted(data)\n",
    "    sorted_data_np = np.array(sorted_data)\n",
    "    q1 = np.percentile(sorted_data_np, 25)\n",
    "    q3 = np.percentile(sorted_data_np, 75)\n",
    "    q2 = np.percentile(sorted_data_np, 50)\n",
    "    \n",
    "    IQR = q3 - q1\n",
    "    \n",
    "    upper_bound = q3 + (1.5* IQR)\n",
    "    lower_bound = q1 - (1.5*IQR)\n",
    "    \n",
    "    for data_point in sorted_data:\n",
    "        if data_point < lower_bound or data_point > upper_bound:\n",
    "            outliers.append(data_point)\n",
    "    \n",
    "    return outliers\n",
    "        "
   ]
  },
  {
   "cell_type": "code",
   "execution_count": 4,
   "id": "4eff3450",
   "metadata": {
    "execution": {
     "iopub.execute_input": "2024-07-07T16:21:19.163186Z",
     "iopub.status.busy": "2024-07-07T16:21:19.162809Z",
     "iopub.status.idle": "2024-07-07T16:21:19.175458Z",
     "shell.execute_reply": "2024-07-07T16:21:19.174203Z"
    },
    "papermill": {
     "duration": 0.020738,
     "end_time": "2024-07-07T16:21:19.177839",
     "exception": false,
     "start_time": "2024-07-07T16:21:19.157101",
     "status": "completed"
    },
    "tags": []
   },
   "outputs": [
    {
     "data": {
      "text/plain": [
       "[123, 210, 350]"
      ]
     },
     "execution_count": 4,
     "metadata": {},
     "output_type": "execute_result"
    }
   ],
   "source": [
    "outliers_in_my_dataset = outlier_detection(data_1)\n",
    "outliers_in_my_dataset"
   ]
  },
  {
   "cell_type": "code",
   "execution_count": 5,
   "id": "2f6577f6",
   "metadata": {
    "execution": {
     "iopub.execute_input": "2024-07-07T16:21:19.188904Z",
     "iopub.status.busy": "2024-07-07T16:21:19.188467Z",
     "iopub.status.idle": "2024-07-07T16:21:19.196205Z",
     "shell.execute_reply": "2024-07-07T16:21:19.194976Z"
    },
    "papermill": {
     "duration": 0.016578,
     "end_time": "2024-07-07T16:21:19.199056",
     "exception": false,
     "start_time": "2024-07-07T16:21:19.182478",
     "status": "completed"
    },
    "tags": []
   },
   "outputs": [],
   "source": [
    "# using z-values to calculate outliers\n",
    "# if my data point's corresponding z value lies outside of lets say the 3rd std. which in case of z table, is 3 and on the either side of the mean, so ill consider that point as an outlier.\n",
    "\n",
    "import numpy as np\n",
    "\n",
    "def outlier_detection_z(data):\n",
    "    outliers = []\n",
    "    critical_boundary = 3\n",
    "    data_np = np.array(data)\n",
    "    standard_deviation_of_data = np.std(data_np) \n",
    "    mean_of_data = np.mean(data_np)\n",
    "    for data_point in data:\n",
    "        z_value = (data_point - mean_of_data) / standard_deviation_of_data\n",
    "        if np.abs(z_value) > critical_boundary:\n",
    "            outliers.append(data_point)\n",
    "            \n",
    "    return outliers"
   ]
  },
  {
   "cell_type": "code",
   "execution_count": 6,
   "id": "322b197e",
   "metadata": {
    "execution": {
     "iopub.execute_input": "2024-07-07T16:21:19.210146Z",
     "iopub.status.busy": "2024-07-07T16:21:19.209723Z",
     "iopub.status.idle": "2024-07-07T16:21:19.217636Z",
     "shell.execute_reply": "2024-07-07T16:21:19.216363Z"
    },
    "papermill": {
     "duration": 0.016793,
     "end_time": "2024-07-07T16:21:19.220567",
     "exception": false,
     "start_time": "2024-07-07T16:21:19.203774",
     "status": "completed"
    },
    "tags": []
   },
   "outputs": [
    {
     "data": {
      "text/plain": [
       "[350]"
      ]
     },
     "execution_count": 6,
     "metadata": {},
     "output_type": "execute_result"
    }
   ],
   "source": [
    "outliers_in_dataset = outlier_detection_z(data_1)\n",
    "outliers_in_dataset"
   ]
  },
  {
   "cell_type": "code",
   "execution_count": null,
   "id": "508cbbc6",
   "metadata": {
    "papermill": {
     "duration": 0.00433,
     "end_time": "2024-07-07T16:21:19.229659",
     "exception": false,
     "start_time": "2024-07-07T16:21:19.225329",
     "status": "completed"
    },
    "tags": []
   },
   "outputs": [],
   "source": []
  },
  {
   "cell_type": "code",
   "execution_count": 7,
   "id": "3f36cc68",
   "metadata": {
    "execution": {
     "iopub.execute_input": "2024-07-07T16:21:19.240708Z",
     "iopub.status.busy": "2024-07-07T16:21:19.240276Z",
     "iopub.status.idle": "2024-07-07T16:21:19.254163Z",
     "shell.execute_reply": "2024-07-07T16:21:19.252896Z"
    },
    "papermill": {
     "duration": 0.022427,
     "end_time": "2024-07-07T16:21:19.256798",
     "exception": false,
     "start_time": "2024-07-07T16:21:19.234371",
     "status": "completed"
    },
    "tags": []
   },
   "outputs": [
    {
     "data": {
      "text/plain": [
       "49.40606423986307"
      ]
     },
     "execution_count": 7,
     "metadata": {},
     "output_type": "execute_result"
    }
   ],
   "source": [
    "# how do i calculate the percentiles without using numpy built in funtionality\n",
    "# sort the array\n",
    "\n",
    "\n",
    "def mean(data):\n",
    "    sum = 0\n",
    "    for data_point in data:\n",
    "        sum += data_point\n",
    "    length = len(data)\n",
    "    mean = sum / length\n",
    "        \n",
    "    return mean\n",
    "\n",
    "# square all the data points, divide by the len, subtract from the square of the mean, underroot the entire thing to get standard deviation\n",
    "\n",
    "def standard_dev(data, mean):\n",
    "    squared_sum = 0\n",
    "    for data_point in data:\n",
    "        data_point = data_point**2\n",
    "        squared_sum += data_point\n",
    "    length = len(data)\n",
    "    squared_avg = squared_sum / length\n",
    "    mean_sq = mean**2\n",
    "    standard_deviation_sq = squared_avg - mean_sq\n",
    "    stadard_deviation = standard_deviation_sq**(1/2)\n",
    "    return stadard_deviation \n",
    "\n",
    "\n",
    "data_1 = [170,123, 167, 165, 160, 180, 175, 179, 210, 182,168, 170,169, 350]\n",
    "mean_cal = mean(data_1)\n",
    "mean_cal # 183.42857142857142\n",
    "\n",
    "standard_deviation_cal = standard_dev(data_1, mean_cal )\n",
    "standard_deviation_cal # 49.40606423986307\n"
   ]
  },
  {
   "cell_type": "code",
   "execution_count": 8,
   "id": "367f07cd",
   "metadata": {
    "execution": {
     "iopub.execute_input": "2024-07-07T16:21:19.268038Z",
     "iopub.status.busy": "2024-07-07T16:21:19.267658Z",
     "iopub.status.idle": "2024-07-07T16:21:19.275824Z",
     "shell.execute_reply": "2024-07-07T16:21:19.274661Z"
    },
    "papermill": {
     "duration": 0.016874,
     "end_time": "2024-07-07T16:21:19.278467",
     "exception": false,
     "start_time": "2024-07-07T16:21:19.261593",
     "status": "completed"
    },
    "tags": []
   },
   "outputs": [
    {
     "data": {
      "text/plain": [
       "49.406064239863"
      ]
     },
     "execution_count": 8,
     "metadata": {},
     "output_type": "execute_result"
    }
   ],
   "source": [
    "import numpy as np\n",
    "stdev = np.std(data_1)\n",
    "stdev"
   ]
  },
  {
   "cell_type": "markdown",
   "id": "fe8b502f",
   "metadata": {
    "papermill": {
     "duration": 0.004745,
     "end_time": "2024-07-07T16:21:19.288472",
     "exception": false,
     "start_time": "2024-07-07T16:21:19.283727",
     "status": "completed"
    },
    "tags": []
   },
   "source": []
  }
 ],
 "metadata": {
  "kaggle": {
   "accelerator": "none",
   "dataSources": [],
   "dockerImageVersionId": 30732,
   "isGpuEnabled": false,
   "isInternetEnabled": false,
   "language": "python",
   "sourceType": "notebook"
  },
  "kernelspec": {
   "display_name": "Python 3",
   "language": "python",
   "name": "python3"
  },
  "language_info": {
   "codemirror_mode": {
    "name": "ipython",
    "version": 3
   },
   "file_extension": ".py",
   "mimetype": "text/x-python",
   "name": "python",
   "nbconvert_exporter": "python",
   "pygments_lexer": "ipython3",
   "version": "3.10.13"
  },
  "papermill": {
   "default_parameters": {},
   "duration": 5.005334,
   "end_time": "2024-07-07T16:21:19.815626",
   "environment_variables": {},
   "exception": null,
   "input_path": "__notebook__.ipynb",
   "output_path": "__notebook__.ipynb",
   "parameters": {},
   "start_time": "2024-07-07T16:21:14.810292",
   "version": "2.5.0"
  }
 },
 "nbformat": 4,
 "nbformat_minor": 5
}
